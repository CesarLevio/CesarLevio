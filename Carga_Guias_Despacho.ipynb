{
  "nbformat": 4,
  "nbformat_minor": 0,
  "metadata": {
    "colab": {
      "provenance": []
    },
    "kernelspec": {
      "name": "python3",
      "display_name": "Python 3"
    },
    "language_info": {
      "name": "python"
    }
  },
  "cells": [
    {
      "cell_type": "code",
      "source": [
        "!pip install pandas\n",
        "!pip install openpyxl\n",
        "!pip install PyPDF2"
      ],
      "metadata": {
        "colab": {
          "base_uri": "https://localhost:8080/"
        },
        "id": "CWtGL3FSSd6g",
        "outputId": "c93d04c2-298e-422d-dba4-3c14130a3629"
      },
      "execution_count": null,
      "outputs": [
        {
          "output_type": "stream",
          "name": "stdout",
          "text": [
            "Requirement already satisfied: pandas in /usr/local/lib/python3.10/dist-packages (2.0.3)\n",
            "Requirement already satisfied: python-dateutil>=2.8.2 in /usr/local/lib/python3.10/dist-packages (from pandas) (2.8.2)\n",
            "Requirement already satisfied: pytz>=2020.1 in /usr/local/lib/python3.10/dist-packages (from pandas) (2023.4)\n",
            "Requirement already satisfied: tzdata>=2022.1 in /usr/local/lib/python3.10/dist-packages (from pandas) (2024.1)\n",
            "Requirement already satisfied: numpy>=1.21.0 in /usr/local/lib/python3.10/dist-packages (from pandas) (1.25.2)\n",
            "Requirement already satisfied: six>=1.5 in /usr/local/lib/python3.10/dist-packages (from python-dateutil>=2.8.2->pandas) (1.16.0)\n",
            "Requirement already satisfied: openpyxl in /usr/local/lib/python3.10/dist-packages (3.1.2)\n",
            "Requirement already satisfied: et-xmlfile in /usr/local/lib/python3.10/dist-packages (from openpyxl) (1.1.0)\n",
            "Collecting PyPDF2\n",
            "  Downloading pypdf2-3.0.1-py3-none-any.whl (232 kB)\n",
            "\u001b[2K     \u001b[90m━━━━━━━━━━━━━━━━━━━━━━━━━━━━━━━━━━━━━━━━\u001b[0m \u001b[32m232.6/232.6 kB\u001b[0m \u001b[31m4.9 MB/s\u001b[0m eta \u001b[36m0:00:00\u001b[0m\n",
            "\u001b[?25hInstalling collected packages: PyPDF2\n",
            "Successfully installed PyPDF2-3.0.1\n"
          ]
        }
      ]
    },
    {
      "cell_type": "code",
      "execution_count": null,
      "metadata": {
        "colab": {
          "base_uri": "https://localhost:8080/"
        },
        "id": "AL2OAJqTSPBZ",
        "outputId": "65a6998d-5dca-4a72-a273-d3c79e1f939c"
      },
      "outputs": [
        {
          "output_type": "stream",
          "name": "stdout",
          "text": [
            "¿Desea agregar una guía de despacho? (s/n): s\n",
            "Ingrese un nombre para la columna de la guía de despacho: 0000283057\n",
            "Ingrese el número de guía de despacho (sin la extensión .pdf): 0000283225\n",
            "La guía de despacho 0000283225 ha sido procesada y los datos se han guardado en informacion_guia_despacho.xlsx.\n",
            "¿Desea agregar otra guía de despacho? (s/n): n\n",
            "Proceso finalizado.\n"
          ]
        }
      ],
      "source": [
        "import os\n",
        "import pandas as pd\n",
        "from PyPDF2 import PdfReader\n",
        "\n",
        "# Función para procesar una guía de despacho\n",
        "def procesar_guia_despacho(numero_guia):\n",
        "    # Agregar la extensión \".pdf\" al número de guía\n",
        "    nombre_archivo = f\"{numero_guia}.pdf\"\n",
        "\n",
        "    # Verificar si el archivo existe\n",
        "    if not os.path.exists(nombre_archivo):\n",
        "        print(f\"El archivo {nombre_archivo} no existe.\")\n",
        "        return\n",
        "\n",
        "    # Leer el contenido del archivo PDF en modo binario\n",
        "    with open(nombre_archivo, 'rb') as file:\n",
        "        # Crear un objeto de lectura de PDF\n",
        "        pdf_reader = PdfReader(file)\n",
        "\n",
        "        # Extraer texto de todas las páginas\n",
        "        texto_guia_despacho = \"\"\n",
        "        for page_num in range(len(pdf_reader.pages)):\n",
        "            page = pdf_reader.pages[page_num]\n",
        "            texto_guia_despacho += page.extract_text()\n",
        "\n",
        "    # Función para obtener las claves y valores de interés\n",
        "    def obtener_claves_y_valores(info_guia_despacho):\n",
        "        claves_interes = ['FECHA', 'GUIA DE DESPACHO ELECTRONICA', 'TRANSPORTE', 'CONTENEDOR', 'CHOFER', 'PATENTE', 'CENTRO']\n",
        "\n",
        "        # Separar la información en líneas y procesar cada línea\n",
        "        lineas = info_guia_despacho.split('\\n')\n",
        "        datos = {}\n",
        "        for linea in lineas:\n",
        "            for clave in claves_interes:\n",
        "                if clave in linea:\n",
        "                    valor = linea.split(':', 1)[1].strip()\n",
        "                    if clave == 'FECHA':\n",
        "                        # Obtener la fecha desde el texto\n",
        "                        valor = ' '.join(valor.split()[1:])  # Se omite \"Fecha:\"\n",
        "                    datos[clave] = valor\n",
        "                    break\n",
        "        return datos\n",
        "\n",
        "    # Obtener claves y valores de interés\n",
        "    datos = obtener_claves_y_valores(texto_guia_despacho)\n",
        "\n",
        "    # Crear DataFrame a partir de los datos\n",
        "    df = pd.DataFrame.from_dict(datos, orient='index', columns=['GUIA DE DESPACHO ELECTRONICA']).T\n",
        "\n",
        "    # Exportar DataFrame a un archivo Excel\n",
        "    nombre_excel = \"informacion_guia_despacho.xlsx\"\n",
        "    if os.path.exists(nombre_excel):\n",
        "        # Si el archivo Excel ya existe, cargar el archivo existente y agregar nuevos datos\n",
        "        df_existente = pd.read_excel(nombre_excel, index_col=0)\n",
        "        df_final = pd.concat([df_existente, df])\n",
        "        df_final.to_excel(nombre_excel)\n",
        "    else:\n",
        "        # Si el archivo Excel no existe, crear uno nuevo\n",
        "        df.to_excel(nombre_excel)\n",
        "\n",
        "    print(f\"La guía de despacho {numero_guia} ha sido procesada y los datos se han guardado en {nombre_excel}.\")\n",
        "\n",
        "# Solicitar número de guía al usuario\n",
        "opcion = input(\"¿Desea agregar una guía de despacho? (s/n): \").lower()\n",
        "while opcion == 's':\n",
        "    nombre_columna = input(\"Ingrese un nombre para la columna de la guía de despacho: \")\n",
        "    numero_guia = input(\"Ingrese el número de guía de despacho (sin la extensión .pdf): \")\n",
        "    procesar_guia_despacho(numero_guia)\n",
        "    opcion = input(\"¿Desea agregar otra guía de despacho? (s/n): \").lower()\n",
        "\n",
        "print(\"Proceso finalizado.\")\n"
      ]
    },
    {
      "cell_type": "code",
      "source": [
        "import os\n",
        "import pandas as pd\n",
        "from PyPDF2 import PdfReader\n",
        "\n",
        "# Función para procesar una guía de despacho\n",
        "def procesar_guia_despacho(numero_guia):\n",
        "    # Agregar la extensión \".pdf\" al número de guía\n",
        "    nombre_archivo = f\"{numero_guia}.pdf\"\n",
        "\n",
        "    # Verificar si el archivo existe\n",
        "    if not os.path.exists(nombre_archivo):\n",
        "        print(f\"El archivo {nombre_archivo} no existe.\")\n",
        "        return\n",
        "\n",
        "    # Leer el contenido del archivo PDF en modo binario\n",
        "    with open(nombre_archivo, 'rb') as file:\n",
        "        # Crear un objeto de lectura de PDF\n",
        "        pdf_reader = PdfReader(file)\n",
        "\n",
        "        # Extraer texto de todas las páginas\n",
        "        texto_guia_despacho = \"\"\n",
        "        for page_num in range(len(pdf_reader.pages)):\n",
        "            page = pdf_reader.pages[page_num]\n",
        "            texto_guia_despacho += page.extract_text()\n",
        "\n",
        "    # Función para obtener las claves y valores de interés\n",
        "    def obtener_claves_y_valores(info_guia_despacho):\n",
        "        claves_interes = ['FECHA', 'GUIA DE DESPACHO ELECTRONICA', 'TRANSPORTE', 'CONTENEDOR', 'CHOFER', 'PATENTE', 'CENTRO']\n",
        "\n",
        "        # Separar la información en líneas y procesar cada línea\n",
        "        lineas = info_guia_despacho.split('\\n')\n",
        "        datos = []\n",
        "        for linea in lineas:\n",
        "            for clave in claves_interes:\n",
        "                if clave in linea:\n",
        "                    valor = linea.split(':', 1)[1].strip()\n",
        "                    if clave == 'FECHA':\n",
        "                        # Obtener la fecha desde el texto\n",
        "                        valor = ' '.join(valor.split()[1:])  # Se omite \"Fecha:\"\n",
        "                    datos.append((clave, '', valor))\n",
        "                    break\n",
        "        return datos\n",
        "\n",
        "    # Obtener claves y valores de interés\n",
        "    datos = obtener_claves_y_valores(texto_guia_despacho)\n",
        "\n",
        "    # Crear DataFrame a partir de los datos\n",
        "    df = pd.DataFrame(datos, columns=['Clave', '', 'Valor'])\n",
        "\n",
        "    # Exportar DataFrame a un archivo Excel\n",
        "    nombre_excel = \"informacion_guia_despacho.xlsx\"\n",
        "    if os.path.exists(nombre_excel):\n",
        "        # Si el archivo Excel ya existe, cargar el archivo existente y agregar nuevos datos\n",
        "        df_existente = pd.read_excel(nombre_excel, index_col=0)\n",
        "        df_final = pd.concat([df_existente, df])\n",
        "        df_final.to_excel(nombre_excel, index=False)\n",
        "    else:\n",
        "        # Si el archivo Excel no existe, crear uno nuevo\n",
        "        df.to_excel(nombre_excel, index=False)\n",
        "\n",
        "    print(f\"La guía de despacho {numero_guia} ha sido procesada y los datos se han guardado en {nombre_excel}.\")\n",
        "\n",
        "# Solicitar número de guía al usuario\n",
        "opcion = input(\"¿Desea agregar una guía de despacho? (s/n): \").lower()\n",
        "while opcion == 's':\n",
        "    numero_guia = input(\"Ingrese el número de guía de despacho (sin la extensión .pdf): \")\n",
        "    procesar_guia_despacho(numero_guia)\n",
        "    opcion = input(\"¿Desea agregar otra guía de despacho? (s/n): \").lower()\n",
        "\n",
        "print(\"Proceso finalizado.\")\n"
      ],
      "metadata": {
        "colab": {
          "base_uri": "https://localhost:8080/"
        },
        "id": "lvzXPZn8eDsZ",
        "outputId": "d6b859c5-02b6-4e36-f907-8bdbb3f5482a"
      },
      "execution_count": null,
      "outputs": [
        {
          "output_type": "stream",
          "name": "stdout",
          "text": [
            "¿Desea agregar una guía de despacho? (s/n): s\n",
            "Ingrese el número de guía de despacho (sin la extensión .pdf): 0000283057\n",
            "La guía de despacho 0000283057 ha sido procesada y los datos se han guardado en informacion_guia_despacho.xlsx.\n",
            "¿Desea agregar otra guía de despacho? (s/n): s\n",
            "Ingrese el número de guía de despacho (sin la extensión .pdf): 0000283225\n",
            "La guía de despacho 0000283225 ha sido procesada y los datos se han guardado en informacion_guia_despacho.xlsx.\n",
            "¿Desea agregar otra guía de despacho? (s/n): n\n",
            "Proceso finalizado.\n"
          ]
        }
      ]
    }
  ]
}